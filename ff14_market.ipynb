{
  "cells": [
    {
      "cell_type": "code",
      "execution_count": 25,
      "metadata": {
        "id": "TocWsrQicZXj"
      },
      "outputs": [],
      "source": [
        "import requests\n",
        "import os\n",
        "import sys\n",
        "import pandas as pd\n",
        "import json"
      ]
    },
    {
      "cell_type": "code",
      "execution_count": 26,
      "metadata": {},
      "outputs": [
        {
          "name": "stdout",
          "output_type": "stream",
          "text": [
            "The autoreload extension is already loaded. To reload it, use:\n",
            "  %reload_ext autoreload\n"
          ]
        }
      ],
      "source": [
        "%load_ext autoreload\n",
        "%autoreload 2"
      ]
    },
    {
      "cell_type": "code",
      "execution_count": 27,
      "metadata": {},
      "outputs": [],
      "source": [
        "from ff14_utils import *"
      ]
    },
    {
      "cell_type": "code",
      "execution_count": 28,
      "metadata": {
        "id": "2LS5gcGTjgZa"
      },
      "outputs": [],
      "source": [
        "if 'google.colab' in sys.modules:\n",
        "    root_dir = os.path.join(os.getcwd(), 'drive', 'MyDrive', 'ff14')\n",
        "    data_dir = os.path.join(root_dir, 'data')\n",
        "else:\n",
        "    root_dir = os.getcwd()\n",
        "    data_dir = os.path.join(root_dir, 'data')"
      ]
    },
    {
      "cell_type": "code",
      "execution_count": 29,
      "metadata": {},
      "outputs": [],
      "source": [
        "ITEM_CATEGORY_CONFIG_MAP = json.load(open(os.path.join(data_dir, 'item_category_config_map.json')))"
      ]
    },
    {
      "cell_type": "code",
      "execution_count": 30,
      "metadata": {},
      "outputs": [],
      "source": [
        "target_worlds = get_target_worlds(5)"
      ]
    },
    {
      "cell_type": "code",
      "execution_count": 31,
      "metadata": {
        "id": "hprG6YhzWCF6"
      },
      "outputs": [],
      "source": [
        "path = os.path.join(data_dir, 'Items_v3.csv')\n",
        "\n",
        "df = pd.read_csv(path, header=0)"
      ]
    },
    {
      "cell_type": "code",
      "execution_count": 32,
      "metadata": {},
      "outputs": [
        {
          "name": "stdout",
          "output_type": "stream",
          "text": [
            "['All', 'Pugilist Weapons', 'One-handed Swords', 'Greataxes', 'Bows', 'Polearms', 'One-handed Conjurer Arms', 'Two-handed Conjurer Arms', 'One-handed Thaumaturge Arms', 'Two-handed Thaumaturge Arms', 'Grimoires', 'Shields', \"Carpenter's Primary Tool\", \"Carpenter's Secondary Tool\", \"Blacksmith's Primary Tool\", \"Blacksmith's Secondary Tool\", \"Armorer's Primary Tool\", \"Armorer's Secondary Tool\", \"Goldsmith's Primary Tool\", \"Goldsmith's Secondary Tool\", \"Leatherworker's Primary Tool\", \"Leatherworker's Secondary Tool\", \"Weaver's Primary Tool\", \"Weaver's Secondary Tool\", \"Alchemist's Primary Tool\", \"Alchemist's Secondary Tool\", \"Culinarian's Primary Tool\", \"Culinarian's Secondary Tool\", \"Miner's Primary Tool\", \"Miner's Secondary Tool\", \"Botanist's Primary Tool\", \"Botanist's Secondary Tool\", \"Fisher's Primary Tool\", 'Fishing Tackle', 'Head Armor', 'Body Armor', 'Leg Armor', 'Hand Armor', 'Foot Armor', 'Waist Armor', 'Necklaces', 'Earrings', 'Bracelets', 'Rings', 'Potions', 'Ingredients', 'Food', 'Fish', 'Minerals', 'Metals', 'Lumber', 'Cloth', 'Leather', 'Bone', 'Alchemical Materials', 'Dyes', 'Parts', 'Furnishings', 'Materia', 'Crystals', 'Catalysts', 'Sundries', 'Soul Crystals', 'Other', 'Estate Certificates', 'Roofs', 'Exterior Walls', 'Windows', 'Doors', 'Roof Decorations', 'Exterior Wall Decorations', 'Placards', 'Fences', 'Interior Walls', 'Floors', 'Roof Lighting', 'Garden Furnishings', 'Tables and Counters', 'Tabletop', 'Wall-mounted', 'Carpets', 'Minions', 'Gardening Items', 'Demimateria', 'Dual Blades', 'Seasonal Miscellany', 'Orchestral Scrolls', 'Two-handed Swords', 'Muskets', 'Astrolabes', 'Airship Components (Hull)', 'Airship Components (Rigging)', 'Airship Components (Forecastle)', 'Airship Components (Aftcastle)', 'Orchestrion Rolls', 'Paintings', 'Katana', 'Rapiers', 'Grimoires (SCH)', \"Fisher's Secondary Tool\", 'Currency', 'Submarine Components (Hull)', 'Submarine Components (Tail)', 'Submarine Components (Bow)', 'Submarine Components (Bridge)', 'Blue Mage Arms', 'Gunblades', 'Throwing Weapons', 'Two-handed Scythes', 'Trust Equipment']\n"
          ]
        }
      ],
      "source": [
        "categories = ITEM_CATEGORY_CONFIG_MAP.keys()\n",
        "print(list(categories))"
      ]
    },
    {
      "cell_type": "code",
      "execution_count": 33,
      "metadata": {},
      "outputs": [],
      "source": [
        "all_items = df['#'].to_list()\n",
        "\n",
        "fishs = df[df['ItemUICategory'] == ITEM_CATEGORY_CONFIG_MAP['Fish']]['#'].to_list()\n",
        "potions = df[df['ItemUICategory'] == ITEM_CATEGORY_CONFIG_MAP['Potions']]['#'].to_list()\n",
        "foods = df[df['ItemUICategory'] == ITEM_CATEGORY_CONFIG_MAP['Food']]['#'].to_list()\n",
        "ingredients = df[df['ItemUICategory'] == ITEM_CATEGORY_CONFIG_MAP['Ingredients']]['#'].to_list()\n",
        "shards = df[df['ItemUICategory'] == ITEM_CATEGORY_CONFIG_MAP['Crystals']]['#'].to_list()\n",
        "furnishings = df[df['ItemUICategory'] == ITEM_CATEGORY_CONFIG_MAP['Furnishings']]['#'].to_list()\n",
        "materias = df[df['ItemUICategory'] == ITEM_CATEGORY_CONFIG_MAP['Materia']]['#'].to_list()\n",
        "\n",
        "miscellaneous_categories = ['Metals', 'Lumber', 'Cloth', 'Leather', 'Bone', 'Alchemical Materials', 'Dyes', 'Parts']\n",
        "miscellaneous = df[df['ItemUICategory'].isin([ITEM_CATEGORY_CONFIG_MAP[category] for category in miscellaneous_categories])]['#'].to_list()"
      ]
    },
    {
      "cell_type": "code",
      "execution_count": 34,
      "metadata": {},
      "outputs": [],
      "source": [
        "target_items = all_items"
      ]
    },
    {
      "cell_type": "code",
      "execution_count": 35,
      "metadata": {},
      "outputs": [],
      "source": [
        "seconds_in_a_day = 60 * 60 * 24\n",
        "milliseconds_in_a_day = seconds_in_a_day * 1000"
      ]
    },
    {
      "cell_type": "code",
      "execution_count": 36,
      "metadata": {},
      "outputs": [],
      "source": [
        "path = os.path.join(data_dir, 'item_metadata.csv')\n",
        "df_metadata = pd.read_csv(path, header=0)"
      ]
    },
    {
      "cell_type": "code",
      "execution_count": 37,
      "metadata": {},
      "outputs": [],
      "source": [
        "df_metadata['worldID'] = df_metadata['worldID'].astype(int)"
      ]
    },
    {
      "cell_type": "code",
      "execution_count": 38,
      "metadata": {},
      "outputs": [],
      "source": [
        "# remove the items from the cristal category\n",
        "df_metadata = df_metadata[~df_metadata['itemID'].isin(shards)]"
      ]
    },
    {
      "cell_type": "code",
      "execution_count": 39,
      "metadata": {},
      "outputs": [],
      "source": [
        "# split the data between hq and nq\n",
        "df_metadata_hq = df_metadata.copy()\n",
        "df_metadata_hq['itemID'] = df_metadata_hq['itemID'].apply(lambda x: f'{x}_hq')\n",
        "df_metadata_hq.drop(columns=['nqSaleVelocity', 'averagePriceNQ'], inplace=True)\n",
        "df_metadata_hq.rename(columns={'hqSaleVelocity': 'saleVelocity', 'averagePriceHQ': 'averagePrice'}, inplace=True)\n",
        "\n",
        "df_metadata_nq = df_metadata.copy()\n",
        "df_metadata_nq['itemID'] = df_metadata_nq['itemID'].apply(lambda x: f'{x}_nq')\n",
        "df_metadata_nq.drop(columns=['hqSaleVelocity', 'averagePriceHQ'], inplace=True)\n",
        "df_metadata_nq.rename(columns={'nqSaleVelocity': 'saleVelocity', 'averagePriceNQ': 'averagePrice'}, inplace=True)\n",
        "\n",
        "df_metadata_split = pd.concat([df_metadata_hq, df_metadata_nq])"
      ]
    },
    {
      "cell_type": "code",
      "execution_count": 40,
      "metadata": {},
      "outputs": [],
      "source": [
        "df_metadata_split = df_metadata_split[df_metadata_split['saleVelocity'] > 0]"
      ]
    },
    {
      "cell_type": "code",
      "execution_count": 41,
      "metadata": {},
      "outputs": [],
      "source": [
        "current_date = pd.to_datetime('today').date()\n",
        "df_metadata_split['update_delay'] = [int((current_date - pd.to_datetime(x).date()).days) for x in df_metadata_split['lastUploadTime']]\n",
        "df_metadata_split.drop(columns=['lastUploadTime'], inplace=True)\n",
        "df_metadata_split = df_metadata_split[df_metadata_split['update_delay'] < 3]\n",
        "df_metadata_split.drop(columns=['update_delay'], inplace=True)"
      ]
    },
    {
      "cell_type": "code",
      "execution_count": 42,
      "metadata": {},
      "outputs": [],
      "source": [
        "df_metadata_split.sort_values(by='saleVelocity', ascending=False, inplace=True)"
      ]
    },
    {
      "cell_type": "code",
      "execution_count": 43,
      "metadata": {},
      "outputs": [
        {
          "data": {
            "text/html": [
              "<div>\n",
              "<style scoped>\n",
              "    .dataframe tbody tr th:only-of-type {\n",
              "        vertical-align: middle;\n",
              "    }\n",
              "\n",
              "    .dataframe tbody tr th {\n",
              "        vertical-align: top;\n",
              "    }\n",
              "\n",
              "    .dataframe thead th {\n",
              "        text-align: right;\n",
              "    }\n",
              "</style>\n",
              "<table border=\"1\" class=\"dataframe\">\n",
              "  <thead>\n",
              "    <tr style=\"text-align: right;\">\n",
              "      <th></th>\n",
              "      <th>itemID</th>\n",
              "      <th>worldID</th>\n",
              "      <th>saleVelocity</th>\n",
              "      <th>averagePrice</th>\n",
              "    </tr>\n",
              "  </thead>\n",
              "  <tbody>\n",
              "    <tr>\n",
              "      <th>80379</th>\n",
              "      <td>27796_nq</td>\n",
              "      <td>97</td>\n",
              "      <td>70</td>\n",
              "      <td>125.0</td>\n",
              "    </tr>\n",
              "    <tr>\n",
              "      <th>39538</th>\n",
              "      <td>31985_nq</td>\n",
              "      <td>80</td>\n",
              "      <td>70</td>\n",
              "      <td>86.2</td>\n",
              "    </tr>\n",
              "    <tr>\n",
              "      <th>39972</th>\n",
              "      <td>33916_nq</td>\n",
              "      <td>80</td>\n",
              "      <td>70</td>\n",
              "      <td>335.8</td>\n",
              "    </tr>\n",
              "    <tr>\n",
              "      <th>25484</th>\n",
              "      <td>31991_nq</td>\n",
              "      <td>71</td>\n",
              "      <td>70</td>\n",
              "      <td>475.2</td>\n",
              "    </tr>\n",
              "    <tr>\n",
              "      <th>39552</th>\n",
              "      <td>31999_nq</td>\n",
              "      <td>80</td>\n",
              "      <td>70</td>\n",
              "      <td>298.6</td>\n",
              "    </tr>\n",
              "  </tbody>\n",
              "</table>\n",
              "</div>"
            ],
            "text/plain": [
              "         itemID  worldID  saleVelocity  averagePrice\n",
              "80379  27796_nq       97            70         125.0\n",
              "39538  31985_nq       80            70          86.2\n",
              "39972  33916_nq       80            70         335.8\n",
              "25484  31991_nq       71            70         475.2\n",
              "39552  31999_nq       80            70         298.6"
            ]
          },
          "execution_count": 43,
          "metadata": {},
          "output_type": "execute_result"
        }
      ],
      "source": [
        "df_metadata_split.head()"
      ]
    },
    {
      "cell_type": "code",
      "execution_count": 44,
      "metadata": {},
      "outputs": [],
      "source": [
        "df_best = df_metadata_split.copy()\n",
        "df_best = df_best.head(1000)\n",
        "df_best.drop(columns=['saleVelocity'], inplace=True)"
      ]
    },
    {
      "cell_type": "code",
      "execution_count": 45,
      "metadata": {},
      "outputs": [
        {
          "data": {
            "text/html": [
              "<div>\n",
              "<style scoped>\n",
              "    .dataframe tbody tr th:only-of-type {\n",
              "        vertical-align: middle;\n",
              "    }\n",
              "\n",
              "    .dataframe tbody tr th {\n",
              "        vertical-align: top;\n",
              "    }\n",
              "\n",
              "    .dataframe thead th {\n",
              "        text-align: right;\n",
              "    }\n",
              "</style>\n",
              "<table border=\"1\" class=\"dataframe\">\n",
              "  <thead>\n",
              "    <tr style=\"text-align: right;\">\n",
              "      <th></th>\n",
              "      <th>itemID</th>\n",
              "      <th>worldID</th>\n",
              "      <th>averagePrice</th>\n",
              "    </tr>\n",
              "  </thead>\n",
              "  <tbody>\n",
              "    <tr>\n",
              "      <th>80379</th>\n",
              "      <td>27796_nq</td>\n",
              "      <td>97</td>\n",
              "      <td>125.0</td>\n",
              "    </tr>\n",
              "    <tr>\n",
              "      <th>39538</th>\n",
              "      <td>31985_nq</td>\n",
              "      <td>80</td>\n",
              "      <td>86.2</td>\n",
              "    </tr>\n",
              "    <tr>\n",
              "      <th>39972</th>\n",
              "      <td>33916_nq</td>\n",
              "      <td>80</td>\n",
              "      <td>335.8</td>\n",
              "    </tr>\n",
              "    <tr>\n",
              "      <th>25484</th>\n",
              "      <td>31991_nq</td>\n",
              "      <td>71</td>\n",
              "      <td>475.2</td>\n",
              "    </tr>\n",
              "    <tr>\n",
              "      <th>39552</th>\n",
              "      <td>31999_nq</td>\n",
              "      <td>80</td>\n",
              "      <td>298.6</td>\n",
              "    </tr>\n",
              "  </tbody>\n",
              "</table>\n",
              "</div>"
            ],
            "text/plain": [
              "         itemID  worldID  averagePrice\n",
              "80379  27796_nq       97         125.0\n",
              "39538  31985_nq       80          86.2\n",
              "39972  33916_nq       80         335.8\n",
              "25484  31991_nq       71         475.2\n",
              "39552  31999_nq       80         298.6"
            ]
          },
          "execution_count": 45,
          "metadata": {},
          "output_type": "execute_result"
        }
      ],
      "source": [
        "df_best.head()"
      ]
    },
    {
      "cell_type": "code",
      "execution_count": 46,
      "metadata": {},
      "outputs": [],
      "source": [
        "target_keys = [\n",
        "    'hq',\n",
        "    'lastReviewTime',\n",
        "    'pricePerUnit',\n",
        "    'quantity',\n",
        "    'materia',\n",
        "    'onMannequin',\n",
        "    'tax',\n",
        "]\n",
        "\n",
        "columns = [\n",
        "    'itemID',\n",
        "    'worldID',\n",
        "    'pricePerUnit',\n",
        "    'quantity',\n",
        "    'hq',\n",
        "    'materia',\n",
        "    'onMannequin',\n",
        "    'tax',\n",
        "    'lastReviewTime',\n",
        "    'averagePrice',\n",
        "]\n",
        "\n",
        "fields_str = ','.join([f'listings.{key}' for key in target_keys])"
      ]
    },
    {
      "cell_type": "code",
      "execution_count": 47,
      "metadata": {},
      "outputs": [
        {
          "name": "stderr",
          "output_type": "stream",
          "text": [
            "/tmp/ipykernel_3290/4014266788.py:23: FutureWarning: The behavior of DataFrame concatenation with empty or all-NA entries is deprecated. In a future version, this will no longer exclude empty or all-NA columns when determining the result dtypes. To retain the old behavior, exclude the relevant entries before the concat operation.\n",
            "  df_items = pd.concat([df_items, df_temp])\n"
          ]
        }
      ],
      "source": [
        "df_items = pd.DataFrame(columns=columns)\n",
        "\n",
        "for i in range(len(df_best)):\n",
        "    item_id = df_best.iloc[i]['itemID'].split('_')[0]\n",
        "    item_q = df_best.iloc[i]['itemID'].split('_')[1]\n",
        "    hq = 'true' if item_q == 'hq' else 'false'\n",
        "    world = df_best.iloc[i]['worldID']\n",
        "    price = df_best.iloc[i]['averagePrice']\n",
        "\n",
        "    data = get_current_data(world, item_id, '', hq, '', fields_str)['listings']\n",
        "\n",
        "    df_temp = pd.DataFrame(columns=columns)\n",
        "    df_temp['itemID'] = [f'{item_id}_{item_q}'] * len(data)\n",
        "    df_temp['worldID'] = [world] * len(data)\n",
        "    df_temp['pricePerUnit'] = [x['pricePerUnit'] for x in data]\n",
        "    df_temp['quantity'] = [x['quantity'] for x in data]\n",
        "    df_temp['hq'] = [x['hq'] for x in data]\n",
        "    df_temp['materia'] = [x['materia'] for x in data]\n",
        "    df_temp['onMannequin'] = [x['onMannequin'] for x in data]\n",
        "    df_temp['tax'] = [x['tax'] for x in data]\n",
        "    df_temp['lastReviewTime'] = [x['lastReviewTime'] for x in data]\n",
        "    df_temp['averagePrice'] = [price] * len(data)\n",
        "    df_items = pd.concat([df_items, df_temp])\n",
        "\n",
        "df_items = df_items.reset_index(drop=True)"
      ]
    },
    {
      "cell_type": "code",
      "execution_count": 48,
      "metadata": {},
      "outputs": [
        {
          "data": {
            "text/html": [
              "<div>\n",
              "<style scoped>\n",
              "    .dataframe tbody tr th:only-of-type {\n",
              "        vertical-align: middle;\n",
              "    }\n",
              "\n",
              "    .dataframe tbody tr th {\n",
              "        vertical-align: top;\n",
              "    }\n",
              "\n",
              "    .dataframe thead th {\n",
              "        text-align: right;\n",
              "    }\n",
              "</style>\n",
              "<table border=\"1\" class=\"dataframe\">\n",
              "  <thead>\n",
              "    <tr style=\"text-align: right;\">\n",
              "      <th></th>\n",
              "      <th>itemID</th>\n",
              "      <th>worldID</th>\n",
              "      <th>pricePerUnit</th>\n",
              "      <th>quantity</th>\n",
              "      <th>hq</th>\n",
              "      <th>materia</th>\n",
              "      <th>onMannequin</th>\n",
              "      <th>tax</th>\n",
              "      <th>lastReviewTime</th>\n",
              "      <th>averagePrice</th>\n",
              "    </tr>\n",
              "  </thead>\n",
              "  <tbody>\n",
              "    <tr>\n",
              "      <th>0</th>\n",
              "      <td>27796_nq</td>\n",
              "      <td>97</td>\n",
              "      <td>99</td>\n",
              "      <td>99</td>\n",
              "      <td>False</td>\n",
              "      <td>[]</td>\n",
              "      <td>False</td>\n",
              "      <td>490</td>\n",
              "      <td>1708913811</td>\n",
              "      <td>125.0</td>\n",
              "    </tr>\n",
              "    <tr>\n",
              "      <th>1</th>\n",
              "      <td>27796_nq</td>\n",
              "      <td>97</td>\n",
              "      <td>100</td>\n",
              "      <td>99</td>\n",
              "      <td>False</td>\n",
              "      <td>[]</td>\n",
              "      <td>False</td>\n",
              "      <td>495</td>\n",
              "      <td>1708913992</td>\n",
              "      <td>125.0</td>\n",
              "    </tr>\n",
              "    <tr>\n",
              "      <th>2</th>\n",
              "      <td>27796_nq</td>\n",
              "      <td>97</td>\n",
              "      <td>100</td>\n",
              "      <td>99</td>\n",
              "      <td>False</td>\n",
              "      <td>[]</td>\n",
              "      <td>False</td>\n",
              "      <td>495</td>\n",
              "      <td>1708913992</td>\n",
              "      <td>125.0</td>\n",
              "    </tr>\n",
              "    <tr>\n",
              "      <th>3</th>\n",
              "      <td>27796_nq</td>\n",
              "      <td>97</td>\n",
              "      <td>100</td>\n",
              "      <td>99</td>\n",
              "      <td>False</td>\n",
              "      <td>[]</td>\n",
              "      <td>False</td>\n",
              "      <td>495</td>\n",
              "      <td>1708913992</td>\n",
              "      <td>125.0</td>\n",
              "    </tr>\n",
              "    <tr>\n",
              "      <th>4</th>\n",
              "      <td>27796_nq</td>\n",
              "      <td>97</td>\n",
              "      <td>100</td>\n",
              "      <td>2</td>\n",
              "      <td>False</td>\n",
              "      <td>[]</td>\n",
              "      <td>False</td>\n",
              "      <td>10</td>\n",
              "      <td>1708940281</td>\n",
              "      <td>125.0</td>\n",
              "    </tr>\n",
              "  </tbody>\n",
              "</table>\n",
              "</div>"
            ],
            "text/plain": [
              "     itemID worldID pricePerUnit quantity     hq materia onMannequin  tax  \\\n",
              "0  27796_nq      97           99       99  False      []       False  490   \n",
              "1  27796_nq      97          100       99  False      []       False  495   \n",
              "2  27796_nq      97          100       99  False      []       False  495   \n",
              "3  27796_nq      97          100       99  False      []       False  495   \n",
              "4  27796_nq      97          100        2  False      []       False   10   \n",
              "\n",
              "  lastReviewTime  averagePrice  \n",
              "0     1708913811         125.0  \n",
              "1     1708913992         125.0  \n",
              "2     1708913992         125.0  \n",
              "3     1708913992         125.0  \n",
              "4     1708940281         125.0  "
            ]
          },
          "execution_count": 48,
          "metadata": {},
          "output_type": "execute_result"
        }
      ],
      "source": [
        "df_items.head()"
      ]
    },
    {
      "cell_type": "code",
      "execution_count": 56,
      "metadata": {},
      "outputs": [],
      "source": [
        "df_louisoix = df_items[df_items['worldID'] == 39]"
      ]
    },
    {
      "cell_type": "code",
      "execution_count": 59,
      "metadata": {},
      "outputs": [
        {
          "name": "stderr",
          "output_type": "stream",
          "text": [
            "/tmp/ipykernel_3290/708023729.py:1: SettingWithCopyWarning: \n",
            "A value is trying to be set on a copy of a slice from a DataFrame.\n",
            "Try using .loc[row_indexer,col_indexer] = value instead\n",
            "\n",
            "See the caveats in the documentation: https://pandas.pydata.org/pandas-docs/stable/user_guide/indexing.html#returning-a-view-versus-a-copy\n",
            "  df_louisoix['price_total'] = df_louisoix['pricePerUnit'] * df_louisoix['quantity'] + df_louisoix['tax']\n",
            "/tmp/ipykernel_3290/708023729.py:2: SettingWithCopyWarning: \n",
            "A value is trying to be set on a copy of a slice from a DataFrame.\n",
            "Try using .loc[row_indexer,col_indexer] = value instead\n",
            "\n",
            "See the caveats in the documentation: https://pandas.pydata.org/pandas-docs/stable/user_guide/indexing.html#returning-a-view-versus-a-copy\n",
            "  df_louisoix['profit'] = df_louisoix['averagePrice'] - df_louisoix['price_total'] - df_louisoix['tax']\n",
            "/tmp/ipykernel_3290/708023729.py:4: SettingWithCopyWarning: \n",
            "A value is trying to be set on a copy of a slice from a DataFrame\n",
            "\n",
            "See the caveats in the documentation: https://pandas.pydata.org/pandas-docs/stable/user_guide/indexing.html#returning-a-view-versus-a-copy\n",
            "  df_louisoix.drop(columns=['worldID', 'pricePerUnit', 'quantity', 'hq', 'materia', 'onMannequin', 'tax', 'lastReviewTime', 'averagePrice', 'price_total'], inplace=True)\n",
            "/tmp/ipykernel_3290/708023729.py:6: SettingWithCopyWarning: \n",
            "A value is trying to be set on a copy of a slice from a DataFrame\n",
            "\n",
            "See the caveats in the documentation: https://pandas.pydata.org/pandas-docs/stable/user_guide/indexing.html#returning-a-view-versus-a-copy\n",
            "  df_louisoix.sort_values(by='priceDiff', ascending=False, inplace=True)\n"
          ]
        }
      ],
      "source": [
        "df_louisoix['price_total'] = df_louisoix['pricePerUnit'] * df_louisoix['quantity'] + df_louisoix['tax']\n",
        "df_louisoix['profit'] = df_louisoix['averagePrice'] - df_louisoix['price_total'] - df_louisoix['tax']\n",
        "\n",
        "df_louisoix.drop(columns=['worldID', 'pricePerUnit', 'quantity', 'hq', 'materia', 'onMannequin', 'tax', 'lastReviewTime', 'averagePrice', 'price_total'], inplace=True)\n",
        "\n",
        "df_louisoix.sort_values(by='profit', ascending=False, inplace=True)"
      ]
    },
    {
      "cell_type": "code",
      "execution_count": 58,
      "metadata": {},
      "outputs": [
        {
          "data": {
            "text/html": [
              "<div>\n",
              "<style scoped>\n",
              "    .dataframe tbody tr th:only-of-type {\n",
              "        vertical-align: middle;\n",
              "    }\n",
              "\n",
              "    .dataframe tbody tr th {\n",
              "        vertical-align: top;\n",
              "    }\n",
              "\n",
              "    .dataframe thead th {\n",
              "        text-align: right;\n",
              "    }\n",
              "</style>\n",
              "<table border=\"1\" class=\"dataframe\">\n",
              "  <thead>\n",
              "    <tr style=\"text-align: right;\">\n",
              "      <th></th>\n",
              "      <th>itemID</th>\n",
              "      <th>worldID</th>\n",
              "      <th>pricePerUnit</th>\n",
              "      <th>quantity</th>\n",
              "      <th>hq</th>\n",
              "      <th>materia</th>\n",
              "      <th>onMannequin</th>\n",
              "      <th>tax</th>\n",
              "      <th>lastReviewTime</th>\n",
              "      <th>averagePrice</th>\n",
              "      <th>priceDiff</th>\n",
              "    </tr>\n",
              "  </thead>\n",
              "  <tbody>\n",
              "    <tr>\n",
              "      <th>3338</th>\n",
              "      <td>32004_nq</td>\n",
              "      <td>39</td>\n",
              "      <td>1100</td>\n",
              "      <td>8</td>\n",
              "      <td>False</td>\n",
              "      <td>[]</td>\n",
              "      <td>False</td>\n",
              "      <td>440</td>\n",
              "      <td>1708983441</td>\n",
              "      <td>1985.4</td>\n",
              "      <td>885.4</td>\n",
              "    </tr>\n",
              "    <tr>\n",
              "      <th>3337</th>\n",
              "      <td>32004_nq</td>\n",
              "      <td>39</td>\n",
              "      <td>1100</td>\n",
              "      <td>8</td>\n",
              "      <td>False</td>\n",
              "      <td>[]</td>\n",
              "      <td>False</td>\n",
              "      <td>440</td>\n",
              "      <td>1708983441</td>\n",
              "      <td>1985.4</td>\n",
              "      <td>885.4</td>\n",
              "    </tr>\n",
              "    <tr>\n",
              "      <th>14044</th>\n",
              "      <td>38936_nq</td>\n",
              "      <td>39</td>\n",
              "      <td>999</td>\n",
              "      <td>99</td>\n",
              "      <td>False</td>\n",
              "      <td>[]</td>\n",
              "      <td>False</td>\n",
              "      <td>4945</td>\n",
              "      <td>1708982468</td>\n",
              "      <td>1739.6</td>\n",
              "      <td>740.6</td>\n",
              "    </tr>\n",
              "    <tr>\n",
              "      <th>2968</th>\n",
              "      <td>37819_nq</td>\n",
              "      <td>39</td>\n",
              "      <td>300</td>\n",
              "      <td>99</td>\n",
              "      <td>False</td>\n",
              "      <td>[]</td>\n",
              "      <td>False</td>\n",
              "      <td>1485</td>\n",
              "      <td>1708981469</td>\n",
              "      <td>1023.4</td>\n",
              "      <td>723.4</td>\n",
              "    </tr>\n",
              "    <tr>\n",
              "      <th>2969</th>\n",
              "      <td>37819_nq</td>\n",
              "      <td>39</td>\n",
              "      <td>300</td>\n",
              "      <td>99</td>\n",
              "      <td>False</td>\n",
              "      <td>[]</td>\n",
              "      <td>False</td>\n",
              "      <td>1485</td>\n",
              "      <td>1708981469</td>\n",
              "      <td>1023.4</td>\n",
              "      <td>723.4</td>\n",
              "    </tr>\n",
              "  </tbody>\n",
              "</table>\n",
              "</div>"
            ],
            "text/plain": [
              "         itemID worldID pricePerUnit quantity     hq materia onMannequin  \\\n",
              "3338   32004_nq      39         1100        8  False      []       False   \n",
              "3337   32004_nq      39         1100        8  False      []       False   \n",
              "14044  38936_nq      39          999       99  False      []       False   \n",
              "2968   37819_nq      39          300       99  False      []       False   \n",
              "2969   37819_nq      39          300       99  False      []       False   \n",
              "\n",
              "        tax lastReviewTime  averagePrice priceDiff  \n",
              "3338    440     1708983441        1985.4     885.4  \n",
              "3337    440     1708983441        1985.4     885.4  \n",
              "14044  4945     1708982468        1739.6     740.6  \n",
              "2968   1485     1708981469        1023.4     723.4  \n",
              "2969   1485     1708981469        1023.4     723.4  "
            ]
          },
          "execution_count": 58,
          "metadata": {},
          "output_type": "execute_result"
        }
      ],
      "source": [
        "df_louisoix.head()"
      ]
    },
    {
      "cell_type": "code",
      "execution_count": null,
      "metadata": {},
      "outputs": [],
      "source": [
        "# implement strategy : buy low and sell high\n",
        "# buy low : pricePerUnit < averagePrice\n",
        "# sell high : averagePrice > buyPrice\n",
        "\n"
      ]
    }
  ],
  "metadata": {
    "colab": {
      "provenance": []
    },
    "kernelspec": {
      "display_name": "Python 3",
      "name": "python3"
    },
    "language_info": {
      "codemirror_mode": {
        "name": "ipython",
        "version": 3
      },
      "file_extension": ".py",
      "mimetype": "text/x-python",
      "name": "python",
      "nbconvert_exporter": "python",
      "pygments_lexer": "ipython3",
      "version": "3.10.12"
    }
  },
  "nbformat": 4,
  "nbformat_minor": 0
}
